{
 "cells": [
  {
   "cell_type": "code",
   "execution_count": 2,
   "metadata": {
    "ExecuteTime": {
     "end_time": "2020-08-14T19:55:18.318390Z",
     "start_time": "2020-08-14T19:55:16.042686Z"
    }
   },
   "outputs": [],
   "source": [
    "import matplotlib\n",
    "import ipywidgets as widgets\n",
    "from ipywidgets import interact, interactive\n",
    "from IPython.display import display"
   ]
  },
  {
   "cell_type": "code",
   "execution_count": 3,
   "metadata": {
    "ExecuteTime": {
     "end_time": "2020-08-15T16:42:04.127630Z",
     "start_time": "2020-08-15T16:42:04.108641Z"
    }
   },
   "outputs": [],
   "source": [
    "Vroom = 20*30*9;  # volume of room in cubic feet\n",
    "airturnovers = 4; # number of air turnovers per hour\n",
    "\n",
    "Rhvac = Vroom*airturnovers/60;    # cubic feet per minute of air pushed into the room\n",
    "Ffresh = 10;     # % of hvac air that is fresh (building code requires 10% minimum fresh outside air)\n",
    "\n",
    "Rleak = 0;        # leakage of hallway air into the room\n",
    "nhall = 0;        # number of virus particles per cubic foot in hallway air\n",
    "\n",
    "Nhepa = 1;        # number of free-standing hepa filters in the room\n",
    "Rhepa = 240;      # cubic feet per minute processed by one free-standing hepa filter\n",
    "Fhepa = 99.9;     # % of virus particles removed by HEPA filter\n",
    "\n",
    "Nsick = 1;        # number of sick people in the room\n",
    "p = 30;           # number of virus particles shed per minute by 1 sick person\n",
    "m = 50;           # % of particles penetrating mask (100 if no mask)\n",
    "\n",
    "k = 500;          # number of inhaled virus particles required to cause infection\n",
    "Lperhour = 450;   # healthy adult L per hour breathed\n",
    "ft3perL = 0.0353147;  # ft^3 per liter\n",
    "Vbreath = Lperhour*ft3perL;  # volume breathed per hour in ft^3, approximately 16 ft^3\n",
    "\n",
    "Nhour = 6;        # of hours in classroom per day\n",
    "Nday = 1;         # number of days in school\n",
    "t = Nhour*Nday;   # total number of hours exposed"
   ]
  },
  {
   "cell_type": "code",
   "execution_count": 4,
   "metadata": {
    "ExecuteTime": {
     "end_time": "2020-08-15T16:42:10.812205Z",
     "start_time": "2020-08-15T16:42:10.726249Z"
    }
   },
   "outputs": [],
   "source": [
    "def reset_slider_defaults(*args):\n",
    "    Rhvac=360; Ffresh=10; Rleak=0; nhall=0; Nhepa=1; Rhepa=240; Fhepa=99.9;\n",
    "    Nsick=1; p=30; m=50; k=500; Vbreath=16; t=6;\n",
    "    \n",
    "    Rhvac_slider.value = Rhvac\n",
    "    Ffresh_slider.value = Ffresh\n",
    "    Rleak_slider.value = Rleak\n",
    "    nhall_slider.value = nhall\n",
    "    Nhepa_slider.value = Nhepa\n",
    "    Rhepa_slider.value = Rhepa\n",
    "    Fhepa_slider.value = Fhepa\n",
    "    Nsick_slider.value = Nsick\n",
    "    p_slider.value = p\n",
    "    m_slider.value = m\n",
    "    k_slider.value = k\n",
    "    Vbreath_slider.value = Vbreath\n",
    "    t_slider.value = t\n",
    "       \n",
    "def print_slider_values():\n",
    "    print('  Rhvac_slider.value = {:,g}'.format(Rhvac_slider.value))\n",
    "    print('  Ffresh_slider.value = {:,g}'.format(Ffresh_slider.value))\n",
    "    print('  Rleak_slider.value = {:,g}'.format(Rleak_slider.value))\n",
    "    print('  nhall_slider.value = {:,g}'.format(nhall_slider.value))\n",
    "    print('  Nhepa_slider.value = {:,g}'.format(Nhepa_slider.value))\n",
    "    print('  Rhepa_slider.value = {:,g}'.format(Rhepa_slider.value))\n",
    "    print('  Fhepa_slider.value = {:,g}'.format(Fhepa_slider.value))\n",
    "    print('  m_slider.value = {:,g}'.format(m_slider.value))\n",
    "    print('  p_slider.value = {:,g}'.format(p_slider.value))\n",
    "    print('  k_slider.value = {:,g}'.format(k_slider.value))\n",
    "    print('  Nsick_slider.value = {:,g}'.format(Nsick_slider.value))\n",
    "    print('  Vbreath_slider.value = {:,g}'.format(Vbreath_slider.value))\n",
    "    print('  t_slider.value = {:,g}'.format(t_slider.value))\n",
    "        \n",
    "def print_params(t=None,Rhvac=None,Ffresh=None,Rleak=None,nhall=None,Nhepa=None,Rhepa=None,Fhepa=None,Nsick=None,p=None,m=None,k=None,Vbreath=None):\n",
    "    print('  Rhvac =', Rhvac)\n",
    "    print('  Ffresh =', Ffresh)\n",
    "    print('  Rleak =', Rleak)    \n",
    "    print('  nhall =', nhall)\n",
    "    print('  Nhepa =', Nhepa)\n",
    "    print('  Rhepa =', Rhepa)\n",
    "    print('  Fhepa =', Fhepa)\n",
    "    print('  m =', m)\n",
    "    print('  p =', p)\n",
    "    print('  k =', k)\n",
    "    print('  Nsick =', Nsick)\n",
    "    print('  Vbreath =', Vbreath)\n",
    "    print('  t =', t)"
   ]
  },
  {
   "cell_type": "code",
   "execution_count": 5,
   "metadata": {
    "ExecuteTime": {
     "end_time": "2020-08-15T10:59:04.849897Z",
     "start_time": "2020-08-15T10:59:04.786934Z"
    }
   },
   "outputs": [],
   "source": [
    "# calculate nroom = number of virus particles per cubic foot in room air\n",
    "def calc_nroom(Rhvac=Rhvac,Ffresh=Ffresh,Rleak=Rleak,nhall=nhall,Nhepa=Nhepa,Rhepa=Rhepa,Fhepa=Fhepa,Nsick=Nsick,p=p,m=m):\n",
    "    # to avoid divide by zero, we can't have both Nhepa*Rhepa=0 and Rhvac=0\n",
    "    if Nhepa*Rhepa==0:\n",
    "        if isscalar(Rhvac) and Rhvac==0: Rhvac=1\n",
    "        else: Rhvac[Rhvac==0]=1\n",
    "    return ( m/100*p*Nsick + nhall*(Rleak+(1-Ffresh/100)*Rhvac) ) / ( Rhvac + Nhepa*Rhepa*Fhepa/100 )\n",
    "\n",
    "# probability of getting sick\n",
    "def calc_prob(t=t,Rhvac=Rhvac,Ffresh=Ffresh,Rleak=Rleak,nhall=nhall,Nhepa=Nhepa,Rhepa=Rhepa,Fhepa=Fhepa,\\\n",
    "              Nsick=Nsick,p=p,m=m,k=k,Vbreath=Vbreath,nroom=None):\n",
    "    if nroom is None:\n",
    "        nroom=calc_nroom(Rhvac=Rhvac,Ffresh=Ffresh,Rleak=Rleak,nhall=nhall,Nhepa=Nhepa,Rhepa=Rhepa,Fhepa=Fhepa,Nsick=Nsick,p=p,m=m)\n",
    "    return 1-exp(-m/100*Vbreath*t*nroom/k)"
   ]
  },
  {
   "cell_type": "code",
   "execution_count": 6,
   "metadata": {
    "ExecuteTime": {
     "end_time": "2020-08-15T19:55:39.075162Z",
     "start_time": "2020-08-15T19:55:38.931252Z"
    }
   },
   "outputs": [],
   "source": [
    "def plot_risk(Rhvac, Ffresh, Rleak, nhall, Nhepa, Rhepa, Fhepa, Nsick, p, m, k, Vbreath, t):\n",
    "    \n",
    "    fig, ax = subplots(1,3,figsize=(14,4))\n",
    "\n",
    "    nhall_threshold = calc_nroom(Rhvac=Rhvac,Ffresh=Ffresh,Rleak=Rleak,nhall=nhall,Nhepa=Nhepa,Rhepa=Rhepa,Fhepa=Fhepa,\\\n",
    "                                  Nsick=Nsick,p=p,m=m)\n",
    "\n",
    "    Rhvac_arr = linspace(0,1000,51)\n",
    "    nroom_arr_mask_Rhvac = calc_nroom(Rhvac=Rhvac_arr,Ffresh=Ffresh,Rleak=Rleak,nhall=nhall,Nhepa=Nhepa,Rhepa=Rhepa,Fhepa=Fhepa,\\\n",
    "                                  Nsick=Nsick,p=p,m=m)\n",
    "    nroom_arr_no_mask_Rhvac = calc_nroom(Rhvac=Rhvac_arr,Ffresh=Ffresh,Rleak=Rleak,nhall=nhall,Nhepa=Nhepa,Rhepa=Rhepa,Fhepa=Fhepa,\\\n",
    "                                     Nsick=Nsick,p=p,m=100)\n",
    "\n",
    "    Ffresh_arr = linspace(0,100,51)\n",
    "    nroom_arr_mask_Ffresh = calc_nroom(Rhvac=Rhvac,Ffresh=Ffresh_arr,Rleak=Rleak,nhall=nhall,Nhepa=Nhepa,Rhepa=Rhepa,Fhepa=Fhepa,\\\n",
    "                                  Nsick=Nsick,p=p,m=m)\n",
    "    nroom_arr_no_mask_Ffresh = calc_nroom(Rhvac=Rhvac,Ffresh=Ffresh_arr,Rleak=Rleak,nhall=nhall,Nhepa=Nhepa,Rhepa=Rhepa,Fhepa=Fhepa,\\\n",
    "                                  Nsick=Nsick,p=p,m=100)\n",
    "\n",
    "    # if the concentration in the hall is low, then Ffresh matters little, so we fix Ffresh and vary Rhvac\n",
    "    if nhall < nhall_threshold:       \n",
    "        ax[0].plot(Rhvac_arr,nroom_arr_mask_Rhvac,'b-',label='mask')\n",
    "        ax[0].plot(Rhvac_arr,nroom_arr_no_mask_Rhvac,'r-',label='no mask')\n",
    "        ax[0].set_xlabel('Rhvac (ft$^3$/min)',fontsize=12)\n",
    "        ax[0].set_ylabel('particles per ft$^3$',fontsize=12)\n",
    "        ax[0].set_xlim([0,1000])\n",
    "        ymax=(ax[0].get_ylim())[1]\n",
    "        ax[0].set_ylim([0,ymax])\n",
    "        ax[0].vlines(Rhvac, 0, ymax, colors='gray', linestyles='dashed', label='Rhvac')\n",
    "        ax[0].legend(fontsize=12)\n",
    "        ax[0].set_title('Virus concentration in classroom')\n",
    "        \n",
    "    # if the concentration in the hall is high, then Ffresh matters a lot, so we fix Rhvac and vary Ffresh\n",
    "    else:       \n",
    "        ax[0].plot(Ffresh_arr,nroom_arr_mask_Ffresh,'b-',label='mask')\n",
    "        ax[0].plot(Ffresh_arr,nroom_arr_no_mask_Ffresh,'r-',label='no mask')\n",
    "        ax[0].set_xlabel('fresh air (%)',fontsize=12)\n",
    "        ax[0].set_ylabel('particles per ft$^3$',fontsize=12)\n",
    "        ax[0].set_xlim([0,100])\n",
    "        ymax=(ax[0].get_ylim())[1]\n",
    "        ax[0].set_ylim([0,ymax])\n",
    "        ax[0].vlines(Ffresh, 0, ymax, colors='gray', linestyles='dashed', label='Ffresh')\n",
    "        ax[0].legend(fontsize=12)\n",
    "        ax[0].set_title('Virus concentration in classroom')\n",
    "\n",
    "    prob_arr_mask_Rhvac = calc_prob(m=m,k=k,Vbreath=Vbreath,t=t,nroom=nroom_arr_mask_Rhvac)\n",
    "    prob_arr_no_mask_Rhvac = calc_prob(m=100,k=k,Vbreath=Vbreath,t=t,nroom=nroom_arr_no_mask_Rhvac)\n",
    "\n",
    "    ax[1].plot(Rhvac_arr,100*prob_arr_mask_Rhvac,'b-',label='mask')\n",
    "    ax[1].plot(Rhvac_arr,100*prob_arr_no_mask_Rhvac,'r-',label='no mask')\n",
    "    ax[1].set_xlabel('Rhvac (ft$^3$/min)',fontsize=12)\n",
    "    ax[1].set_ylabel('probability (%)',fontsize=12)\n",
    "    ax[1].set_xlim([0,1000])\n",
    "    ymax=(ax[1].get_ylim())[1]\n",
    "    ax[1].set_ylim([0,ymax])\n",
    "    ax[1].vlines(Rhvac, 0, ymax, colors='gray', linestyles='dashed', label='Rhvac')\n",
    "    ax[1].legend(fontsize=12)\n",
    "    ax[1].set_title('Chance of getting sick\\n(fixed Ffresh={:,g}%)'.format(Ffresh))\n",
    "    \n",
    "    prob_arr_mask_Ffresh = calc_prob(m=m,k=k,Vbreath=Vbreath,t=t,nroom=nroom_arr_mask_Ffresh)\n",
    "    prob_arr_no_mask_Ffresh = calc_prob(m=100,k=k,Vbreath=Vbreath,t=t,nroom=nroom_arr_no_mask_Ffresh)\n",
    "\n",
    "    ax[2].plot(Ffresh_arr,100*prob_arr_mask_Ffresh,'b-',label='mask')\n",
    "    ax[2].plot(Ffresh_arr,100*prob_arr_no_mask_Ffresh,'r-',label='no mask')\n",
    "    ax[2].set_xlabel('fresh air (%)',fontsize=12)\n",
    "    ax[2].set_ylabel('probability (%)',fontsize=12)\n",
    "    ax[2].set_xlim([0,100])\n",
    "    ymax=(ax[2].get_ylim())[1]\n",
    "    ax[2].set_ylim([0,ymax])\n",
    "    ax[2].vlines(Ffresh, 0, ymax, colors='gray', linestyles='dashed', label='Ffresh')\n",
    "    ax[2].legend(fontsize=12)\n",
    "    ax[2].set_title('Chance of getting sick\\n(fixed Rhvac={:,g} ft$^3$/min)'.format(Rhvac))\n",
    "    \n",
    "    fig.tight_layout()\n",
    "    \n",
    "def plot_risk2(Rhvac, Ffresh, Rleak, nhall, Nhepa, Rhepa, Fhepa, Nsick, p, m, k, Vbreath, t):   \n",
    "    fig, ax = subplots(1,1,figsize=(5,4))\n",
    "    x=linspace(0,10,101)\n",
    "    ax.plot(x,Nhepa*x)"
   ]
  },
  {
   "cell_type": "code",
   "execution_count": 7,
   "metadata": {
    "ExecuteTime": {
     "end_time": "2020-08-15T19:55:57.425997Z",
     "start_time": "2020-08-15T19:55:53.595189Z"
    }
   },
   "outputs": [
    {
     "data": {
      "application/vnd.jupyter.widget-view+json": {
       "model_id": "3caa25ba8a614ba3a4a3ce62a2356279",
       "version_major": 2,
       "version_minor": 0
      },
      "text/plain": [
       "VBox(children=(HBox(children=(VBox(children=(VBox(children=(HTML(value='<b>HVAC controls</b>'),), layout=Layou…"
      ]
     },
     "metadata": {},
     "output_type": "display_data"
    }
   ],
   "source": [
    "style = {'description_width': '120px'}\n",
    "stylecen = {'justify-content': 'center'}\n",
    "w = widgets.interactive(plot_risk, \\\n",
    "                        Rhvac=widgets.IntSlider(min=0,max=1000,step=10,value=Rhvac,\\\n",
    "                                                description=r'$R_{\\text{HVAC}}$ (ft$^3$/min)',continuous_update=False,style=style), \\\n",
    "                        Ffresh=widgets.IntSlider(min=0,max=100,step=1,value=Ffresh,\\\n",
    "                                                   description=r'$F_{\\text{fresh}}$ (%)',continuous_update=False,style=style), \\\n",
    "                        Rleak=widgets.IntSlider(min=0,max=200,step=10,value=Rleak,\\\n",
    "                                                description=r'$R_{\\text{leak}}$ (ft$^3$/min)',continuous_update=False,style=style), \\\n",
    "                        nhall=widgets.FloatSlider(min=0,max=1,step=0.01,value=nhall,\\\n",
    "                                                  description=r'$n_{\\text{hall}}$ (virus/ft$^3$)',continuous_update=False,style=style), \\\n",
    "                        Nhepa=widgets.IntSlider(min=0,max=5,step=1,value=Nhepa,\\\n",
    "                                                  description=r'$N_{\\text{HEPA}}$',continuous_update=False,style=style), \\\n",
    "                        Rhepa=widgets.IntSlider(min=0,max=500,step=10,value=Rhepa,\\\n",
    "                                                  description=r'$R_{\\text{HEPA}}$ (ft$^3$/min)',continuous_update=False,style=style), \\\n",
    "                        Fhepa=widgets.FloatSlider(min=90,max=100,step=0.01,value=Fhepa,\\\n",
    "                                                  description=r'$F_{\\text{HEPA}}$ (%)',continuous_update=False,style=style), \\\n",
    "                        Nsick=widgets.IntSlider(min=0,max=5,step=1,value=Nsick,\\\n",
    "                                                  description=r'$N_{\\text{sick}}$',continuous_update=False,style=style), \\\n",
    "                        p=widgets.IntSlider(min=0,max=300,step=10,value=p,\\\n",
    "                                                  description=r'$p$ (virus shedding)',continuous_update=False,style=style), \\\n",
    "                        m=widgets.IntSlider(min=0,max=100,step=1,value=m,\\\n",
    "                                                  description=r'$m$ (mask penetr. %)',continuous_update=False,style=style), \\\n",
    "                        k=widgets.IntSlider(min=10,max=1000,step=10,value=k,\\\n",
    "                                                  description=r'$k$ (infectious dose)',continuous_update=False,style=style), \\\n",
    "                        Vbreath=widgets.IntSlider(min=10,max=20,step=1,value=Vbreath,\\\n",
    "                                                  description=r'$V_{\\text{breath}}$ (ft$^3$/hr)',continuous_update=False,style=style), \\\n",
    "                        t=widgets.IntSlider(min=0,max=40,step=1,value=t,\\\n",
    "                                                  description=r'$t$ exposed (hrs)',continuous_update=False,style=style))\n",
    "\n",
    "Rhvac_slider = w.children[0]\n",
    "Ffresh_slider = w.children[1]\n",
    "Rleak_slider = w.children[2]\n",
    "nhall_slider = w.children[3]\n",
    "Nhepa_slider = w.children[4]\n",
    "Rhepa_slider = w.children[5]\n",
    "Fhepa_slider = w.children[6]\n",
    "Nsick_slider = w.children[7]\n",
    "p_slider = w.children[8]\n",
    "m_slider = w.children[9]\n",
    "k_slider = w.children[10]\n",
    "Vbreath_slider = w.children[11]\n",
    "t_slider = w.children[12]\n",
    "out = w.children[-1]\n",
    "\n",
    "center_layout = widgets.Layout(width='100%', display='flex', justify_content='center', align_items='center')\n",
    "right_layout = widgets.Layout(width='100%', display='flex', justify_content='flex-end', align_items='flex-end')\n",
    "button_layout = widgets.Layout(width='50%', border = '2px solid black')\n",
    "hvac_label = widgets.VBox([widgets.HTML(value=f\"<b>HVAC controls</b>\")],layout=center_layout)\n",
    "hepa_label = widgets.VBox([widgets.HTML(value=f\"<b>HEPA controls</b>\")],layout=center_layout)\n",
    "virus_label = widgets.VBox([widgets.HTML(value=f\"<b>Virus controls</b>\")],layout=center_layout)\n",
    "expose_label = widgets.VBox([widgets.HTML(value=f\"<b>Exposure controls</b>\")],layout=center_layout)\n",
    "reset_button = widgets.Button(description='Reset all controls',layout=button_layout)\n",
    "reset_button.on_click(reset_slider_defaults)\n",
    "reset_box = widgets.VBox([reset_button],layout=right_layout)\n",
    "v1 = widgets.VBox([hvac_label,Rhvac_slider,Ffresh_slider,Rleak_slider,nhall_slider])\n",
    "v2 = widgets.VBox([hepa_label,Nhepa_slider,Rhepa_slider,Fhepa_slider])\n",
    "v3 = widgets.VBox([virus_label,m_slider,p_slider,k_slider])\n",
    "v4 = widgets.VBox([expose_label,Nsick_slider,Vbreath_slider,t_slider,reset_box])\n",
    "h1 = widgets.HBox([v1,v2,v3,v4])\n",
    "vtot = widgets.VBox([h1,out])\n",
    "\n",
    "display(vtot)\n",
    "reset_slider_defaults()"
   ]
  },
  {
   "cell_type": "markdown",
   "metadata": {},
   "source": [
    "**Equations**\n",
    "\n",
    "The equilibrium concentration of virus particles in a classroom is given by the steady state rate equation (particles coming in = particles going out):\n",
    "\n",
    "\\begin{equation}\n",
    "\\underbrace{m\\,p\\,N_{\\mathrm{sick}}}_{\\substack{\\text{particles / minute} \\\\ \\text{added by sick people in room} }}\n",
    "\\quad+\\underbrace{n_{\\mathrm{hall}} R_{\\mathrm{leak}}}_{\\substack{\\text{particles / minute} \\\\ \\text{leaking in from hallway} }}\n",
    "= \\quad\\underbrace{F_{\\mathrm{fresh}} R_{\\mathrm{HVAC}} n_{\\mathrm{room}}}_{\\substack{\\text{particles / minute} \\\\ \\text{replaced by fresh air} }}\n",
    "\\quad+\\underbrace{(1-F_{\\mathrm{fresh}}) R_{\\mathrm{HVAC}} (n_{\\mathrm{room}}-n_{\\mathrm{hall}})}_{\\substack{\\text{particles / minute} \\\\ \\text{replaced by hall air} }}\n",
    "\\quad+\\underbrace{N_{\\mathrm{HEPA}} R_{\\mathrm{HEPA}} F_{\\mathrm{HEPA}} n_{\\mathrm{room}}}_{\\substack{\\text{particles/minute} \\\\ \\text{removed by HEPA} }}\n",
    "\\end{equation}\n",
    "\n",
    "Solving for $n_{\\mathrm{room}}$, we find:\n",
    "\n",
    "\\begin{equation}\n",
    "n_{\\mathrm{room}} = \\frac{ m \\, p \\, N_{\\mathrm{sick}} + n_{\\mathrm{hall}} \\left[ R_{\\mathrm{leak}} + (1-F_{\\mathrm{fresh}}) R_{\\mathrm{HVAC}} \\right] }\n",
    "{ R_{\\mathrm{HVAC}} + N_{\\mathrm{HEPA}} R_{\\mathrm{HEPA}} F_{\\mathrm{HEPA}} }\n",
    "\\end{equation}\n",
    "\n",
    "Now that we know the equilibrium concentration of virus particles per cubic foot in the room $n_{\\mathrm{room}}$, the probability that you will get sick increases with the amount of time $t$ you spend in the room:\n",
    "\n",
    "\\begin{equation}\n",
    "p(t) = 1 - \\exp(-m \\, V_{\\mathrm{breath}} \\, t \\, n_{\\mathrm{room}} \\, / \\, k)\n",
    "\\end{equation}"
   ]
  },
  {
   "cell_type": "markdown",
   "metadata": {},
   "source": [
    "**HVAC controls**\n",
    "\n",
    "Standard building code requires that each room has at least 4 full air exchanges per hour. A typical classroom size is 20 ft $\\times$ 30 ft, with height 9 ft, giving a total volume of 5400 ft$^3$. So the HVAC system must push 4 $\\times$ 20 ft $\\times$ 30 ft $\\times$ 9 ft per 60 min, i.e. $\\boxed{R_{\\mathrm{HVAC}} = 360\\; \\text{ft}^3/\\text{min}}$. But standard building code allows up to 90% of the air exchange to recirculate within the building (i.e. as little as 10\\% may be fresh air). In a cold climate in the winter, the indoor temperature must remain above 64$^{\\circ}$F, so the fraction of fresh air may be very close to the minimum allowed, $\\boxed{F_{\\mathrm{fresh}} = 10\\%}$. It's also worth noting that building code may have been less stringent when old school buildings were constructed. Furthermore, aging HVAC systtems that used to deliver 4 full air exchanges per hour may no longer do so, due to declining pump efficiency or residue buildup that impedes airflow in the ductwork.\n",
    "\n",
    "The recirculated air $(1-F_{\\mathrm{fresh}})R_{\\mathrm{HVAC}}$ may contain a concentration of virus particles shed by sick occupants from elsewhere in the building. We call this $n_{\\mathrm{hall}}$, measured in particles per ft$^3$.  For this simulation, we start with the best case assumption that there is only a single sick person in the whole building, and we consider the contagion within the classroom of that one sick person. In that case $\\boxed{n_{\\mathrm{hall}}=0\\,/\\text{ft}^3}$. We note that a more conservative assumption is that the virus concentration in the hallway may be similar to that in the classroom if there are multiple sick children moving through the building between classes, i.e. $n_{\\mathrm{hall}}$ could be on order 0.1 particle per ft$^3$ or higher.\n",
    "\n",
    "It's almost impossible to perfectly balance the HVAC system such that the air intake exactly equals the exhaust for a given room. In practice, there is usually some leakage of air from the hallway into the room (in addition to the $(1-F_{\\mathrm{fresh}})R_{\\mathrm{HVAC}}$ that is intentionally recirculated into the room). A typical value of $R_{\\mathrm{leak}}$ might be 50 ft$^3$/min, but here we start with the conservative assumption that $\\boxed{R_{\\mathrm{leak}} = 0\\;\\text{ft}^3/\\text{min}}$.\n",
    "\n",
    "**HEPA controls**\n",
    "\n",
    "A free-standing HEPA filter can help significantly to reduce the viral concentration in the classroom air. For example, we start by considering a medical-grade [HEPA filter](https://www.amazon.com/gp/product/B08194ZQ4N/) that removes $\\boxed{F_{\\mathrm{HEPA}} = 99.9\\%}$ of all particles greater than 0.1 $\\mu$m. This product claims to clear 1,600 ft$^2$ per hour. Assuming a ceiling height of 9 ft, we calculate 1600 ft$^2$ $\\times$ 9 ft / 60 min, yeilding $\\boxed{R_{\\mathrm{HEPA}} = 240\\; \\text{ft}^3/\\text{min}}$. This particular product costs \\\\$250, and requires a replacement filter for \\\\$65 every 6 months.\n",
    "\n",
    "**Virus shedding**\n",
    "\n",
    "The rate of virus particles $p$ shed by a sick person is not yet well-known for COVID-19, but we take some estimates from Prof. Erin Bromage's [blog post](https://www.erinbromage.com/post/the-risks-know-them-avoid-them) and the peer-reviewed scientific references within. One study showed that college students with influenza can shed $\\sim 30$ infectious viral particles per minute [(Yan 2018)](http://dx.doi.org/10.1073/pnas.1716561115). Another early study of adults with COVID-19 showed that quantitative SARS-CoV-2 viral loads were similarly high in four symptom groups (adults with typical symptoms, those with atypical symptoms, those who were presymptomatic, and those who remained asymptomatic). It is notable that 17 of 24 specimens (71%) from presymptomatic persons had viable SARS-CoV-2 virus by culture 1 to 6 days before the development of symptoms [(Gandhi 2020)](http://dx.doi.org/10.1056/NEJMe2009758). We start with a conservative estimate of SARS-COV-2 viral shedding as $\\boxed{p=30\\,/\\text{min}}$.\n",
    "\n",
    "**Infectious dose**\n",
    "\n",
    "The infectious dose $k$ is the number of virus particles required to infect a healthy person. For MERS, $k$ is somewhere in the thousands, perhaps as high as 10,000. Prof. Willem van Schaik (U. Birmingham) estimates that for COVID-19, the infectious dose in the high hundreds or low thousands. It’s reasonable to assume it takes fewer particles to launch an infection in the case of COVID-19 than MERS, because COVID-19 has shown itself to be much more transmissible. Each person with Covid-19 infects two or three others on average, while for MERS that number is less than one [(Vox)](https://www.vox.com/future-perfect/2020/4/24/21233226/coronavirus-runners-cyclists-airborne-infectious-dose).\n",
    "\n",
    "The infectious dose of influenza was shown to be a few 1000s of virus particles [(Nitikin 2014)](https://doi.org/10.1155/2014/859090). The infectious dose of SARS-COV-1 virus was found to be 410 PFU/mL [(Watanabe 2010)](http://dx.doi.org/10.1111/j.1539-6924.2010.01427.x).\n",
    "\n",
    "The units used by experimental biologists to quantify the number of virus particles are confusing! Basically, biologists spread a diluted a virus solution on a petri dish and count colonies a few days later. They report the results in one of two standard units: PFU/mL (plaque-forming-units per milliLiter) or TCID$_{50}$ (50% Tissue Culture Infective Dose), which are roughly equivalent. To be a little more precise, 0.69 PFU/mL = 1 TCID$_{50}$ [(Wikipedia)](https://en.wikipedia.org/wiki/Virus_quantification). But how does this translate to actual virus particles? Unfortunately, the translation is not universal, because it has to do with how many virus particles are actually viable to infect (since viruses replicate single-stranded RNA rather than double-stranded DNA, they are more susceptible to mutations that make them non-viable). One set of studies says the ratio of total particles to PFU for influenza and other RNA viruses is on the order of 10:1 to 100:1 [(Fonville 2015)](http://dx.doi.org/10.1371/journal.ppat.1005204). Another set of studies says that 300–650 copies of human influenza viruses were contained in 1 TCID$_{50}$ [(Nitikin 2014)](https://doi.org/10.1155/2014/859090). \n",
    "\n",
    "Putting this all together, we start with an estimate of the infectious dose as $\\boxed{k=500}$ virus particles.\n",
    "\n",
    "**Masks**\n",
    "\n",
    "One early study of 4 adults with COVID-19 showed that wearing a surgical mask completely eliminated detectable aerosolized SARS-CoV-2 virus particles over a 30 minute collection period [(Leung 2020)](http://dx.doi.org/10.1038/s41591-020-0843-2). But that is a pretty small study, and it's hard to draw reliable conclusions. A larger study of 37 patients with influenza showed that wearing a sugical mask led to a 2.8$\\times$ reduction in detectable aerosolized influenza virus particles [(Milton 2013)](http://dx.doi.org/10.1371/journal.ppat.1003205). We start our simulation with the esimate that $\\boxed{m=50\\%}$ of virus particles penetrate a properly-worn cloth mask (note that $m=0\\%$ if you have an inpenetrable mask, while $m=100\\%$ if you're not wearing a mask).\n",
    "\n",
    "**Exposure controls**\n",
    "\n",
    "A typical adult breaths $\\boxed{V_{\\mathrm{breath}} \\approx 16\\;\\text{ft}^3/\\text{hour}}$ (a child will be somewhat less). The exposure time is $\\boxed{t=6\\;\\text{hrs}}$ for a typical school day.\n",
    "\n",
    "To estimate $N_{\\mathrm{sick}}$ for your geographical region, here is a [risk assessment tool](https://covid19risk.biosci.gatech.edu/) showing the likelihood that at least one person will be sick in a gathering of a given size. For starters, we use $\\boxed{N_{\\mathrm{sick}} = 1}$, and you can just scale the plots by the appropriate factor for your geographical region.\n",
    "\n",
    "**Summary**\n",
    "\n",
    "In summary, we chose best-case parameters for $R_{\\mathrm{HVAC}}$, $R_{\\mathrm{leak}}$, and $n_{\\mathrm{hall}}$. You can try lowering $R_{\\mathrm{leak}}$ by 10\\% or more to account for old building HVAC systems, raising $R_{\\mathrm{leak}}$ to 50 ft$^3$/min or more to account for unbalanced air, and raising $n_{\\mathrm{hall}}$ to 0.1 particles/ft$^3$ or more to account for other sick occupants in the building. On the other hand, we chose a worst-case parameter for $F_{\\mathrm{fresh}}$ based on a very cold climate. If the outside air temperature is more comfortable, you can try raising $F_{\\mathrm{fresh}}$ closer to 100%.\n",
    "\n",
    "We chose both the rate of virus shedding $p$, and the infectious dose $k$ to be on the low end. Unfortunately, these numbers are not yet well-known for COVID-19, so you can play with higher values.\n",
    "\n",
    "We likely under-estimated the exposure time $t$. Adults are typically infectious for 1 to 6 days before symptoms, while children may be even less likely to develop warning symptoms while infectious. It seems likely that if a child becomes infected, they may be inadvertently shedding virus in the classroom for a full week before they either recover, or a family member becomes ill and the child is sent home to quarantine. \n",
    "\n",
    "**Other useful info**\n",
    "\n",
    "SARS-COV-2 virus remained viable in aerosol throughout the duration of a 3-hour experiment, with a half-life of 1.2 hours. On surfaces, the half-life is $\\sim3$ hours on cardboard, $\\sim5$ hours on steel, and $\\sim7$ hours on plastic, although some viable SARS-COV-2 virus was detected on all surfaces after 24 hours [(van Doremalen 2020)](http://dx.doi.org/10.1056/nejmc2004973).\n",
    "\n",
    "A Chinese preprint studied 318 outbreaks of size three or more, involving 1245 total confirmed cases in 120 cities. Out of all 318 outbreaks, only a single one involved outdoor transmission [(Qian 2020)](https://doi.org/10.1101/2020.04.04.20053058).\n",
    "\n",
    "**Disclaimer**\n",
    "\n",
    "I am not a medical doctor or a public health expert. I am just a [physicist](https://www.physics.harvard.edu/people/facpages/hoffman) and a mom who is trying to figure out whether it's safe to send my kids back to school. I have read a small number of peer-reviewed articles in reputable medical journals, but I have by no means reviewed the full body of rapidly-evolving scientific literature on the topic of COVID-19.\n",
    "\n",
    "**Acknowledgments**\n",
    "\n",
    "Thanks to John Doyle and the [N95decon](https://www.n95decon.org/) team for compiling many of the equations and references. Thanks to Ruizhe Kang and Harry Pirie for advice about Python.\n",
    "\n",
    "**References**\n",
    "\n",
    "Yan *et al*, \"Infectious virus in exhaled breath of symptomatic seasonal influenza cases from a college community\", Proc. National Academy of Sciences (2018) [10.1073/pnas.1716561115](https://dx.doi.org/10.1073/pnas.1716561115)\n",
    "\n",
    "Gandhi *et al*, \"Asymptomatic Transmission, the Achilles’ Heel of Current Strategies to Control Covid-19\", New England Journal of Medicine (2020)\n",
    "[10.1056/NEJMe2009758](http://dx.doi.org/10.1056/NEJMe2009758)\n",
    "\n",
    "Leung *et al*, \"Respiratory virus shedding in exhaled breath and efficacy of face masks\", Nature Medicine (2020) [10.1038/s41591-020-0843-2](http://dx.doi.org/10.1038/s41591-020-0843-2)\n",
    "\n",
    "Milton *et al*, \"Influenza Virus Aerosols in Human Exhaled Breath: Particle Size, Culturability, and Effect of Surgical Masks\", PLOS Pathogens (2013) [10.1371/journal.ppat.1003205](http://dx.doi.org/10.1371/journal.ppat.1003205)\n",
    "\n",
    "van Doremalen *et al*, \"Aerosol and Surface Stability of SARS-CoV-2 as Compared with SARS-CoV-1\", New England Journal of Medicine (2020) [10.1056/nejmc2004973](http://dx.doi.org/10.1056/nejmc2004973)\n",
    "\n",
    "Qian *et al*, \"Indoor transmission of SARS-CoV-2\", MedRxiv preprint (2020) [10.1101/2020.04.04.20053058](http://dx.doi.org/10.1101/2020.04.04.20053058)\n",
    "\n",
    "Alford *et al*, \"Human Influenza Resulting from Aerosol Inhalation\", Proc. Soc. Experimental Biology & Medicine (1966) [10.3181/00379727-122-31255](http://dx.doi.org/10.3181/00379727-122-31255)\n",
    "\n",
    "Nikitin *et al*, \"Influenza Virus Aerosols in the Air and Their Infectiousness\", Advances in Virology (2014) [10.1155/2014/859090](http://dx.doi.org/10.1155/2014/859090)\n",
    "\n",
    "Watanabe *et al*, \"Development of a Dose-Response Modelfor SARS Coronavirus\", Risk Analysis (2010) [10.1111/j.1539-6924.2010.01427.x](http://dx.doi.org/10.1111/j.1539-6924.2010.01427.x)\n",
    "\n",
    "Fonville *et al*, \"Influenza Virus Reassortment Is Enhanced by Semi-infectious Particles but Can Be Suppressed by Defective Interfering Particles\", PLOS Pathogens (2015), [10.1371/journal.ppat.1005204](http://dx.doi.org/10.1371/journal.ppat.1005204)\n",
    "\n",
    "\"Virus Quantification\", [Wikipedia](https://en.wikipedia.org/wiki/Virus_quantification)"
   ]
  },
  {
   "cell_type": "markdown",
   "metadata": {
    "heading_collapsed": true
   },
   "source": [
    "## More Plots"
   ]
  },
  {
   "cell_type": "code",
   "execution_count": 109,
   "metadata": {
    "ExecuteTime": {
     "end_time": "2020-08-15T19:46:38.152980Z",
     "start_time": "2020-08-15T19:46:38.059023Z"
    },
    "hidden": true
   },
   "outputs": [
    {
     "data": {
      "application/vnd.jupyter.widget-view+json": {
       "model_id": "6398f990654f48e9bb96b803afc64afb",
       "version_major": 2,
       "version_minor": 0
      },
      "text/plain": [
       "Output()"
      ]
     },
     "metadata": {},
     "output_type": "display_data"
    }
   ],
   "source": [
    "w2 = widgets.interactive(plot_risk2, \\\n",
    "                        Rhvac=Rhvac_slider, Ffresh=Ffresh_slider, Rleak=Rleak_slider, nhall=nhall_slider, \\\n",
    "                        Nhepa=Nhepa_slider, Rhepa=Rhepa_slider, Fhepa=Fhepa_slider, \\\n",
    "                        Nsick=Nsick_slider, p=p_slider, m=m_slider, k=k_slider, Vbreath=Vbreath_slider, t=t_slider)\n",
    "out2 = w2.children[-1]\n",
    "display(out2)"
   ]
  }
 ],
 "metadata": {
  "kernelspec": {
   "display_name": "Python 3",
   "language": "python",
   "name": "python3"
  },
  "language_info": {
   "codemirror_mode": {
    "name": "ipython",
    "version": 3
   },
   "file_extension": ".py",
   "mimetype": "text/x-python",
   "name": "python",
   "nbconvert_exporter": "python",
   "pygments_lexer": "ipython3",
   "version": "3.7.8"
  },
  "toc": {
   "base_numbering": 1,
   "nav_menu": {},
   "number_sections": true,
   "sideBar": true,
   "skip_h1_title": false,
   "title_cell": "Table of Contents",
   "title_sidebar": "Contents",
   "toc_cell": false,
   "toc_position": {},
   "toc_section_display": true,
   "toc_window_display": false
  }
 },
 "nbformat": 4,
 "nbformat_minor": 2
}
